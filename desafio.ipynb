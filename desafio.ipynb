{
  "nbformat": 4,
  "nbformat_minor": 0,
  "metadata": {
    "colab": {
      "name": "teste_engenharia_de_dados_v2_2.ipynb",
      "provenance": [],
      "collapsed_sections": []
    },
    "kernelspec": {
      "name": "python3",
      "display_name": "Python 3"
    },
    "language_info": {
      "name": "python"
    }
  },
  "cells": [
    {
      "cell_type": "markdown",
      "metadata": {
        "id": "LVSy2BqsaSkj"
      },
      "source": [
        "# Setup Geral\n",
        "\n",
        "Se estiver executando este exercício no Google Colab, execute as próximas duas células. \n",
        "\n",
        "Caso esteja executando localmente, não é necessário executar mas certifique-se de que o **pyspark** está instalado e configurado em sua máquina."
      ]
    },
    {
      "cell_type": "code",
      "metadata": {
        "id": "NHPXuknHZ5Az",
        "colab": {
          "base_uri": "https://localhost:8080/",
          "height": 0
        },
        "outputId": "2bd002d9-303b-45b8-9033-e833105f9ad0"
      },
      "source": [
        "%%bash\n",
        "\n",
        "# Instal Java\n",
        "apt-get update && apt-get install openjdk-8-jdk-headless -qq > /dev/null\n",
        "\n",
        "# Install PySpark\n",
        "pip install -q pyspark"
      ],
      "execution_count": 146,
      "outputs": [
        {
          "output_type": "stream",
          "name": "stdout",
          "text": [
            "Get:1 http://security.ubuntu.com/ubuntu bionic-security InRelease [88.7 kB]\n",
            "Hit:2 https://developer.download.nvidia.com/compute/cuda/repos/ubuntu1804/x86_64  InRelease\n",
            "Hit:3 https://cloud.r-project.org/bin/linux/ubuntu bionic-cran40/ InRelease\n",
            "Hit:4 http://archive.ubuntu.com/ubuntu bionic InRelease\n",
            "Get:5 http://archive.ubuntu.com/ubuntu bionic-updates InRelease [88.7 kB]\n",
            "Ign:6 https://developer.download.nvidia.com/compute/machine-learning/repos/ubuntu1804/x86_64  InRelease\n",
            "Hit:7 https://developer.download.nvidia.com/compute/machine-learning/repos/ubuntu1804/x86_64  Release\n",
            "Hit:8 http://ppa.launchpad.net/c2d4u.team/c2d4u4.0+/ubuntu bionic InRelease\n",
            "Get:9 http://archive.ubuntu.com/ubuntu bionic-backports InRelease [74.6 kB]\n",
            "Hit:10 http://ppa.launchpad.net/cran/libgit2/ubuntu bionic InRelease\n",
            "Hit:11 http://ppa.launchpad.net/deadsnakes/ppa/ubuntu bionic InRelease\n",
            "Hit:12 http://ppa.launchpad.net/graphics-drivers/ppa/ubuntu bionic InRelease\n",
            "Fetched 252 kB in 3s (93.8 kB/s)\n",
            "Reading package lists...\n"
          ]
        }
      ]
    },
    {
      "cell_type": "code",
      "metadata": {
        "id": "4dY12q0raXtc"
      },
      "source": [
        "import os\n",
        "os.environ['JAVA_HOME'] = '/usr/lib/jvm/java-8-openjdk-amd64'\n",
        "\n",
        "from pyspark.sql import SparkSession\n",
        "\n",
        "spark = SparkSession.builder.master(\"local[*]\").getOrCreate()"
      ],
      "execution_count": 147,
      "outputs": []
    },
    {
      "cell_type": "markdown",
      "metadata": {
        "id": "pZZMC5QPae-Z"
      },
      "source": [
        "# Teste\n",
        "\n",
        "O teste a ser realizado é composto de 3 partes:\n",
        "\n",
        "- um exercício de programação em Python\n",
        "- alguns exercícios de programação em SQL\n",
        "- alguns exercícios de programação com PySpark\n",
        "\n",
        "Você pode escolher qual das partes do exercício vai fazer primeiro. Todo o exercício deve ser completado no período de 90 minutos."
      ]
    },
    {
      "cell_type": "markdown",
      "metadata": {
        "id": "YUB8S5fKciHv"
      },
      "source": [
        "# Python"
      ]
    },
    {
      "cell_type": "code",
      "metadata": {
        "id": "2F8f5Z1scgUP"
      },
      "source": [
        "# SETUP\n",
        "nomes_alunos = [\n",
        "    ('Maria', 1),\n",
        "    ('João', 2),\n",
        "    ('Pedro', 3),\n",
        "    ('Gabriella', 4),\n",
        "    ('Giovana', 5),\n",
        "    ('Arthur', 6)\n",
        "]\n",
        "\n",
        "notas_alunos = {\n",
        "    1: 9.5,\n",
        "    2: 5.1,\n",
        "    3: 8.7,\n",
        "    4: 7.1,\n",
        "    5: 4.8,\n",
        "    6: 6.3\n",
        "}"
      ],
      "execution_count": 148,
      "outputs": []
    },
    {
      "cell_type": "markdown",
      "metadata": {
        "id": "ApIQ4JqjcsnC"
      },
      "source": [
        "Implemente uma função que recebe uma lista de nomes de alunos, um dicionário de notas dos mesmo, sendo que essas estruturas se relacionam por um ID.\n",
        "\n",
        "A função deve retornar em ordem alfabética, o nome dos alunos que obtiveram notas maior ou igual de uma nota de corte informada."
      ]
    },
    {
      "cell_type": "code",
      "metadata": {
        "id": "ISnDoCWucpHC",
        "colab": {
          "base_uri": "https://localhost:8080/",
          "height": 0
        },
        "outputId": "141fb3bb-8115-452b-c01e-f44f3d16a493"
      },
      "source": [
        "def filtra_alunos_acima_corte(alunos, notas, nota_corte):\n",
        "  x = 0\n",
        "  corte = []\n",
        "  while len(alunos) > x:\n",
        "    nome = alunos[x][0]\n",
        "    nota = notas[alunos[x][1]]\n",
        "    if nota >= nota_corte:\n",
        "      corte.append((nome,nota))\n",
        "    x += 1\n",
        "  return sorted(corte)\n",
        "  \n",
        "filtra_alunos_acima_corte(nomes_alunos, notas_alunos, 6)"
      ],
      "execution_count": 149,
      "outputs": [
        {
          "output_type": "execute_result",
          "data": {
            "text/plain": [
              "[('Arthur', 6.3), ('Gabriella', 7.1), ('Maria', 9.5), ('Pedro', 8.7)]"
            ]
          },
          "metadata": {},
          "execution_count": 149
        }
      ]
    },
    {
      "cell_type": "markdown",
      "metadata": {
        "id": "4iYs_aWqdXrh"
      },
      "source": [
        "# SQL"
      ]
    },
    {
      "cell_type": "markdown",
      "metadata": {
        "id": "mbIq-A9-gXdw"
      },
      "source": [
        "**Setup**\n"
      ]
    },
    {
      "cell_type": "code",
      "metadata": {
        "id": "DOG9FO83dlSe",
        "colab": {
          "base_uri": "https://localhost:8080/",
          "height": 0
        },
        "outputId": "7099a5df-362b-4fae-d232-a0ff1facd10c"
      },
      "source": [
        "%%bash\n",
        "mkdir bases_teste\n",
        "curl https://raw.githubusercontent.com/A3Data/bases_testes/main/bases_teste/produtos.csv -o bases_teste/produtos.csv\n",
        "curl https://raw.githubusercontent.com/A3Data/bases_testes/main/bases_teste/vendas.csv -o bases_teste/vendas.csv\n",
        "curl https://raw.githubusercontent.com/A3Data/bases_testes/main/bases_teste/usuarios.csv -o bases_teste/usuarios.csv"
      ],
      "execution_count": 150,
      "outputs": [
        {
          "output_type": "stream",
          "name": "stderr",
          "text": [
            "mkdir: cannot create directory ‘bases_teste’: File exists\n",
            "  % Total    % Received % Xferd  Average Speed   Time    Time     Time  Current\n",
            "                                 Dload  Upload   Total   Spent    Left  Speed\n",
            "\r  0     0    0     0    0     0      0      0 --:--:-- --:--:-- --:--:--     0\r100  1039  100  1039    0     0   5439      0 --:--:-- --:--:-- --:--:--  5439\n",
            "  % Total    % Received % Xferd  Average Speed   Time    Time     Time  Current\n",
            "                                 Dload  Upload   Total   Spent    Left  Speed\n",
            "\r  0     0    0     0    0     0      0      0 --:--:-- --:--:-- --:--:--     0\r  1  533k    1  7745    0     0  38919      0  0:00:14 --:--:--  0:00:14 38725\r100  533k  100  533k    0     0  2215k      0 --:--:-- --:--:-- --:--:-- 2206k\n",
            "  % Total    % Received % Xferd  Average Speed   Time    Time     Time  Current\n",
            "                                 Dload  Upload   Total   Spent    Left  Speed\n",
            "\r  0     0    0     0    0     0      0      0 --:--:-- --:--:-- --:--:--     0\r100  211k  100  211k    0     0  1056k      0 --:--:-- --:--:-- --:--:-- 1056k\n"
          ]
        }
      ]
    },
    {
      "cell_type": "code",
      "metadata": {
        "id": "kHkTwPZmfV2t"
      },
      "source": [
        "# Setup Spark Session\n",
        "from pyspark.sql import SparkSession\n",
        "spark = SparkSession.builder.appName(\"AtividadeSQL\").getOrCreate()"
      ],
      "execution_count": 151,
      "outputs": []
    },
    {
      "cell_type": "code",
      "metadata": {
        "id": "3kb1a6CwgSVd"
      },
      "source": [
        "def cria_tabela(path, nome_tabela):\n",
        "    df = spark.read.csv(path, inferSchema=True, header=True)\n",
        "    df.createOrReplaceTempView(nome_tabela)\n",
        "    return df\n",
        "\n",
        "usuarios = cria_tabela(\"bases_teste/usuarios.csv\", \"usuarios\")\n",
        "produtos = cria_tabela(\"bases_teste/produtos.csv\", \"produtos\")\n",
        "vendas = cria_tabela(\"bases_teste/vendas.csv\", \"vendas\")"
      ],
      "execution_count": 152,
      "outputs": []
    },
    {
      "cell_type": "markdown",
      "metadata": {
        "id": "6N5gLPYEg27q"
      },
      "source": [
        "**Função para execução de queries**"
      ]
    },
    {
      "cell_type": "code",
      "metadata": {
        "id": "HtpEu2utg5Pb"
      },
      "source": [
        "def q(query, n=30):\n",
        "    return spark.sql(query).show(n=n, truncate=False)"
      ],
      "execution_count": 153,
      "outputs": []
    },
    {
      "cell_type": "markdown",
      "metadata": {
        "id": "s84UzyTqg9lH"
      },
      "source": [
        "Para executar alguma consulta, basta colocar seu código sql dentro da função q como no exemplo abaixo:\n",
        "\n",
        "```python\n",
        "q(\"\"\"\n",
        "    SELECT *\n",
        "    FROM usuarios\n",
        "\"\"\")\n",
        "```\n",
        "\n",
        "e o resultado será exibido na tela.\n",
        "\n",
        "---\n",
        "\n",
        "Nesta parte da atividade, você vai trabalhar com três tabelas:\n",
        "\n",
        "- produtos\n",
        "- usuarios\n",
        "- vendas\n",
        "\n",
        "Use-as para responder às perguntas a seguir."
      ]
    },
    {
      "cell_type": "markdown",
      "metadata": {
        "id": "Kxzvs2rVoxGk"
      },
      "source": [
        "1) Qual foi a quantidade de vendas nos estados de Minas Gerais e São Paulo para cada ano e mês?"
      ]
    },
    {
      "cell_type": "code",
      "metadata": {
        "id": "eLe62-JehCDO",
        "colab": {
          "base_uri": "https://localhost:8080/",
          "height": 0
        },
        "outputId": "58755803-f71c-464f-d8cd-63fd3128d277"
      },
      "source": [
        "q(\"\"\"\n",
        "    SELECT count(y.cod_produto) qtd_vendas, \n",
        "      sum(y.quantidade) qtd_itens, \n",
        "      x.estado, \n",
        "      month(y.data_compra) mes, \n",
        "      year(y.data_compra) ano\n",
        "    FROM usuarios x \n",
        "    LEFT JOIN vendas y ON x.cod_usuario = y.cod_usuario\n",
        "    WHERE x.estado IN ('Minas Gerais', 'São Paulo') AND y.quantidade IS NOT NULL\n",
        "    GROUP BY x.estado, ano, mes\n",
        "    ORDER BY ano, mes;\n",
        "\"\"\")"
      ],
      "execution_count": 154,
      "outputs": [
        {
          "output_type": "stream",
          "name": "stdout",
          "text": [
            "+----------+---------+------------+---+----+\n",
            "|qtd_vendas|qtd_itens|estado      |mes|ano |\n",
            "+----------+---------+------------+---+----+\n",
            "|1         |10       |Minas Gerais|6  |2018|\n",
            "|1         |9        |São Paulo   |7  |2018|\n",
            "|1         |16       |Minas Gerais|8  |2018|\n",
            "|1         |12       |São Paulo   |10 |2018|\n",
            "|1         |20       |Minas Gerais|10 |2018|\n",
            "|1         |10       |Minas Gerais|11 |2018|\n",
            "|2         |39       |Minas Gerais|12 |2018|\n",
            "|2         |20       |Minas Gerais|1  |2019|\n",
            "|1         |2        |Minas Gerais|2  |2019|\n",
            "|2         |26       |Minas Gerais|4  |2019|\n",
            "|1         |11       |Minas Gerais|5  |2019|\n",
            "|1         |10       |São Paulo   |6  |2019|\n",
            "|1         |1        |Minas Gerais|6  |2019|\n",
            "|2         |14       |Minas Gerais|7  |2019|\n",
            "|1         |17       |São Paulo   |8  |2019|\n",
            "|1         |15       |Minas Gerais|8  |2019|\n",
            "|2         |27       |Minas Gerais|9  |2019|\n",
            "|1         |3        |Minas Gerais|10 |2019|\n",
            "|1         |1        |Minas Gerais|11 |2019|\n",
            "|3         |25       |Minas Gerais|12 |2019|\n",
            "|1         |6        |São Paulo   |1  |2020|\n",
            "|1         |8        |Minas Gerais|1  |2020|\n",
            "|1         |10       |Minas Gerais|2  |2020|\n",
            "|1         |1        |São Paulo   |3  |2020|\n",
            "|1         |14       |Minas Gerais|3  |2020|\n",
            "|1         |1        |Minas Gerais|4  |2020|\n",
            "|1         |9        |São Paulo   |4  |2020|\n",
            "|3         |44       |Minas Gerais|5  |2020|\n",
            "|1         |13       |São Paulo   |6  |2020|\n",
            "|3         |18       |Minas Gerais|6  |2020|\n",
            "+----------+---------+------------+---+----+\n",
            "only showing top 30 rows\n",
            "\n"
          ]
        }
      ]
    },
    {
      "cell_type": "markdown",
      "metadata": {
        "id": "xzD4NiqHplgI"
      },
      "source": [
        "2) Quais são os usuários por Estado que mais compraram em todo o período analisado e qual foi o número de compras realizadas, a quantidade total de itens comprados e valor total pago por usuário?"
      ]
    },
    {
      "cell_type": "code",
      "metadata": {
        "id": "bVV3Gnthp5hT",
        "colab": {
          "base_uri": "https://localhost:8080/",
          "height": 0
        },
        "outputId": "0addafc6-44b1-43b8-df82-192b86a95c84"
      },
      "source": [
        "q(\"\"\"\n",
        "    SELECT x.cod_usuario, \n",
        "    count(y.quantidade) qtd_vendas, \n",
        "    sum(y.quantidade) qtd_itens,\n",
        "    cast(sum(valor) AS decimal(10,2)) valor_total, \n",
        "    x.estado\n",
        "    FROM usuarios x \n",
        "    left join vendas y\n",
        "    on x.cod_usuario =  y.cod_usuario\n",
        "    where y.quantidade is not null\n",
        "    group by x.cod_usuario, x.estado\n",
        "    order by qtd_vendas desc;\n",
        "\"\"\")"
      ],
      "execution_count": 155,
      "outputs": [
        {
          "output_type": "stream",
          "name": "stdout",
          "text": [
            "+-----------+----------+---------+-----------+-------------------+\n",
            "|cod_usuario|qtd_vendas|qtd_itens|valor_total|estado             |\n",
            "+-----------+----------+---------+-----------+-------------------+\n",
            "|2811       |13        |117      |184101.89  |Maranhão           |\n",
            "|3403       |10        |94       |136347.01  |Rio Grande do Norte|\n",
            "|2843       |10        |114      |137228.01  |Paraná             |\n",
            "|2340       |9         |112      |165197.30  |Mato Grosso        |\n",
            "|1074       |9         |66       |159165.18  |Santa Catarina     |\n",
            "|2981       |9         |70       |126282.40  |Bahia              |\n",
            "|28         |9         |76       |29114.45   |Rio Grande do Sul  |\n",
            "|3090       |9         |93       |95697.30   |Minas Gerais       |\n",
            "|700        |9         |74       |142389.09  |Goiás              |\n",
            "|2551       |9         |88       |187513.66  |Santa Catarina     |\n",
            "|1752       |8         |80       |97028.45   |Tocantins          |\n",
            "|1787       |8         |79       |121494.67  |Ceará              |\n",
            "|441        |8         |95       |14945.13   |Maranhão           |\n",
            "|1756       |8         |73       |134413.00  |São Paulo          |\n",
            "|2438       |8         |91       |95031.67   |Minas Gerais       |\n",
            "|2216       |7         |75       |85841.41   |Minas Gerais       |\n",
            "|1192       |7         |76       |16001.50   |Mato Grosso        |\n",
            "|2646       |7         |84       |135556.70  |Pernambuco         |\n",
            "|796        |7         |56       |28161.00   |Minas Gerais       |\n",
            "|191        |7         |69       |26216.35   |Maranhão           |\n",
            "|2186       |7         |61       |51359.34   |Amapá              |\n",
            "|3358       |7         |58       |136881.19  |Goiás              |\n",
            "|1415       |7         |51       |3015.63    |Rio Grande do Sul  |\n",
            "|3040       |7         |74       |54400.24   |São Paulo          |\n",
            "|2669       |7         |56       |37119.00   |Pernambuco         |\n",
            "|2856       |7         |71       |71986.05   |Bahia              |\n",
            "|1947       |6         |70       |62296.63   |Minas Gerais       |\n",
            "|679        |6         |102      |152271.96  |Mato Grosso do Sul |\n",
            "|2183       |6         |46       |8069.51    |Santa Catarina     |\n",
            "|2920       |6         |59       |75686.31   |São Paulo          |\n",
            "+-----------+----------+---------+-----------+-------------------+\n",
            "only showing top 30 rows\n",
            "\n"
          ]
        }
      ]
    },
    {
      "cell_type": "markdown",
      "metadata": {
        "id": "Rx53Cl5Xp6TV"
      },
      "source": [
        "3) Quais são os usuários que não fizeram nenhuma compra?"
      ]
    },
    {
      "cell_type": "code",
      "metadata": {
        "id": "POtsi6dPq9-K",
        "colab": {
          "base_uri": "https://localhost:8080/",
          "height": 0
        },
        "outputId": "caab5d7c-852c-4689-9b46-662122bd85d6"
      },
      "source": [
        "q(\"\"\"\n",
        "    SELECT x.cod_usuario, y.quantidade\n",
        "    FROM usuarios x \n",
        "    left join vendas y\n",
        "    on x.cod_usuario =  y.cod_usuario\n",
        "    where y.quantidade is null and x.cod_usuario is not null\n",
        "    group by x.cod_usuario, y.quantidade;\n",
        "\"\"\")"
      ],
      "execution_count": 156,
      "outputs": [
        {
          "output_type": "stream",
          "name": "stdout",
          "text": [
            "+-----------+----------+\n",
            "|cod_usuario|quantidade|\n",
            "+-----------+----------+\n",
            "|19984      |null      |\n",
            "|25517      |null      |\n",
            "|41409      |null      |\n",
            "|68090      |null      |\n",
            "|87120      |null      |\n",
            "|195413     |null      |\n",
            "|200379     |null      |\n",
            "|219523     |null      |\n",
            "|246097     |null      |\n",
            "|362827     |null      |\n",
            "|371765     |null      |\n",
            "|417190     |null      |\n",
            "|485130     |null      |\n",
            "|91785      |null      |\n",
            "|67782      |null      |\n",
            "|90817      |null      |\n",
            "|18654      |null      |\n",
            "|76143      |null      |\n",
            "|54264      |null      |\n",
            "|69048      |null      |\n",
            "|63155      |null      |\n",
            "|18800      |null      |\n",
            "|22521      |null      |\n",
            "|5614       |null      |\n",
            "|22188      |null      |\n",
            "|50732      |null      |\n",
            "|149257     |null      |\n",
            "|206380     |null      |\n",
            "|221801     |null      |\n",
            "|224325     |null      |\n",
            "+-----------+----------+\n",
            "only showing top 30 rows\n",
            "\n"
          ]
        }
      ]
    },
    {
      "cell_type": "markdown",
      "metadata": {
        "id": "JMfPmlvJq-vq"
      },
      "source": [
        "4) Qual é o ticket médio (média de valor gasto) e o número total de usuários que fizeram pelo menos uma compra por faixa etária?"
      ]
    },
    {
      "cell_type": "code",
      "metadata": {
        "id": "2wmU9pLbrMg3",
        "colab": {
          "base_uri": "https://localhost:8080/",
          "height": 0
        },
        "outputId": "af97d8f3-1d96-489f-eab2-5d26ef2647dd"
      },
      "source": [
        "q(\"\"\"\n",
        "    SELECT count(x.cod_usuario) total_users, \n",
        "    cast(avg(y.valor) AS decimal(10,2)) valor_medio,\n",
        "    x.faixa_etaria\n",
        "    FROM usuarios x \n",
        "    left join vendas y\n",
        "    on x.cod_usuario =  y.cod_usuario\n",
        "    where y.quantidade is not null\n",
        "    group by x.faixa_etaria;\n",
        "\"\"\")"
      ],
      "execution_count": 157,
      "outputs": [
        {
          "output_type": "stream",
          "name": "stdout",
          "text": [
            "+-----------+-----------+------------------+\n",
            "|total_users|valor_medio|faixa_etaria      |\n",
            "+-----------+-----------+------------------+\n",
            "|64         |12203.02   |Entre 22 a 27 anos|\n",
            "|43         |8890.13    |Entre 10 a 15 anos|\n",
            "|50         |12725.95   |Entre 16 a 21 anos|\n",
            "|80         |10849.48   |Entre 50 a 61 anos|\n",
            "|42         |16727.19   |Entre 37 a 49 anos|\n",
            "|39         |10012.63   |Entre 62 a 70 anos|\n",
            "|56         |8233.04    |Entre 28 a 36 anos|\n",
            "|29         |11303.10   |Mais de 70 anos   |\n",
            "+-----------+-----------+------------------+\n",
            "\n"
          ]
        }
      ]
    },
    {
      "cell_type": "code",
      "metadata": {
        "id": "3zzx4TnTJ0ck"
      },
      "source": [
        "spark.stop()"
      ],
      "execution_count": 158,
      "outputs": []
    },
    {
      "cell_type": "markdown",
      "metadata": {
        "id": "YsxnKyHTr9ZQ"
      },
      "source": [
        "# PySpark"
      ]
    },
    {
      "cell_type": "markdown",
      "metadata": {
        "id": "IHTFrsFRKENk"
      },
      "source": [
        "**setup**:"
      ]
    },
    {
      "cell_type": "code",
      "metadata": {
        "id": "ExrbmwGPJ74k",
        "colab": {
          "base_uri": "https://localhost:8080/",
          "height": 0
        },
        "outputId": "29488bd2-0e4c-41c7-8f32-1273d86760b2"
      },
      "source": [
        "%%bash\n",
        "mkdir bases_teste\n",
        "curl https://raw.githubusercontent.com/A3Data/bases_testes/main/bases_teste/produtos.csv -o bases_teste/produtos.csv\n",
        "curl https://raw.githubusercontent.com/A3Data/bases_testes/main/bases_teste/vendas.csv -o bases_teste/vendas.csv\n",
        "curl https://raw.githubusercontent.com/A3Data/bases_testes/main/bases_teste/usuarios.csv -o bases_teste/usuarios.csv"
      ],
      "execution_count": 159,
      "outputs": [
        {
          "output_type": "stream",
          "name": "stderr",
          "text": [
            "mkdir: cannot create directory ‘bases_teste’: File exists\n",
            "  % Total    % Received % Xferd  Average Speed   Time    Time     Time  Current\n",
            "                                 Dload  Upload   Total   Spent    Left  Speed\n",
            "\r  0     0    0     0    0     0      0      0 --:--:-- --:--:-- --:--:--     0\r100  1039  100  1039    0     0  16492      0 --:--:-- --:--:-- --:--:-- 16492\n",
            "  % Total    % Received % Xferd  Average Speed   Time    Time     Time  Current\n",
            "                                 Dload  Upload   Total   Spent    Left  Speed\n",
            "\r  0     0    0     0    0     0      0      0 --:--:-- --:--:-- --:--:--     0\r100  533k  100  533k    0     0  5339k      0 --:--:-- --:--:-- --:--:-- 5339k\n",
            "  % Total    % Received % Xferd  Average Speed   Time    Time     Time  Current\n",
            "                                 Dload  Upload   Total   Spent    Left  Speed\n",
            "\r  0     0    0     0    0     0      0      0 --:--:-- --:--:-- --:--:--     0\r100  211k  100  211k    0     0  1637k      0 --:--:-- --:--:-- --:--:-- 1637k\n"
          ]
        }
      ]
    },
    {
      "cell_type": "code",
      "metadata": {
        "id": "1iMZB37mJ74k"
      },
      "source": [
        "# Setup Spark Session\n",
        "\n",
        "from pyspark.sql import SparkSession\n",
        "from pyspark.sql.functions import col, sum, count, round, row_number, max, min, avg\n",
        "from pyspark.sql.types import StringType,BooleanType,DateType,IntegerType\n",
        "from pyspark.sql.window import Window\n",
        "spark = SparkSession.builder.appName(\"AtividadeSQL\").getOrCreate()\n"
      ],
      "execution_count": 160,
      "outputs": []
    },
    {
      "cell_type": "code",
      "metadata": {
        "id": "5wjdDd3tJ74l"
      },
      "source": [
        "def cria_tabela(path, nome_tabela):\n",
        "    df = spark.read.csv(path, inferSchema=True, header=True)\n",
        "    df.createOrReplaceTempView(nome_tabela)\n",
        "    return df\n",
        "\n",
        "usuarios = cria_tabela(\"bases_teste/usuarios.csv\", \"usuarios\")\n",
        "produtos = cria_tabela(\"bases_teste/produtos.csv\", \"produtos\")\n",
        "vendas = cria_tabela(\"bases_teste/vendas.csv\", \"vendas\")"
      ],
      "execution_count": 161,
      "outputs": []
    },
    {
      "cell_type": "markdown",
      "metadata": {
        "id": "DHCtQfrvKpWz"
      },
      "source": [
        "Responda às perguntas a seguir utilizando **Spark DATAFRAMES**.\n",
        "\n",
        "1) Qual foi o total de compras realizadas, o total de itens comprados e a receita total obtida em todo o período analisado?"
      ]
    },
    {
      "cell_type": "code",
      "metadata": {
        "id": "0CcQqjM3r-mq",
        "colab": {
          "base_uri": "https://localhost:8080/",
          "height": 0
        },
        "outputId": "ad1bf1e8-74f0-4f1a-f004-6cd344a6eed3"
      },
      "source": [
        "vendas.agg(count(\"quantidade\").alias(\"total compras\"), \\\n",
        "           sum(\"quantidade\").alias(\"total itens\") , \\\n",
        "           sum(\"valor\").alias(\"total receita\")).show()"
      ],
      "execution_count": 162,
      "outputs": [
        {
          "output_type": "stream",
          "name": "stdout",
          "text": [
            "+-------------+-----------+--------------------+\n",
            "|total compras|total itens|       total receita|\n",
            "+-------------+-----------+--------------------+\n",
            "|        20000|     209149|2.1584900165999958E8|\n",
            "+-------------+-----------+--------------------+\n",
            "\n"
          ]
        }
      ]
    },
    {
      "cell_type": "markdown",
      "metadata": {
        "id": "uVV0rIT8KzZ2"
      },
      "source": [
        "2) Quais são os 3 produtos mais comprados dos estados da região Sul e Sudeste, a quantidade de itens comprados, o valor total pago e a média de preço paga?"
      ]
    },
    {
      "cell_type": "code",
      "metadata": {
        "id": "JkX1ByRdLa5V",
        "colab": {
          "base_uri": "https://localhost:8080/",
          "height": 0
        },
        "outputId": "e8c0dabe-1651-4674-d99a-e623bd4e5947"
      },
      "source": [
        "ES = [\"Paraná\", \"Rio Grande do Sul\", \"Santa Catarina\", \"Espírito Santo\", \"Minas Gerais\", \"Rio de Janeiro\", \"São Paulo\"]\n",
        "\n",
        "vendXuser = vendas.join(usuarios, vendas.cod_usuario == usuarios.cod_usuario).filter(usuarios.estado.isin(ES))\n",
        "\n",
        "vendXuser.groupBy(\"estado\", \"cod_produto\")\\\n",
        "  .agg(count(\"cod_produto\").alias(\"qtd_comprados\"),\\\n",
        "    sum(\"valor\").cast(\"decimal(10,2)\").alias(\"valor_total\"),\\\n",
        "    avg(\"valor\").cast(\"decimal(10,2)\").alias(\"valor_medio\")).orderBy(col(\"qtd_comprados\").desc()).show()"
      ],
      "execution_count": 163,
      "outputs": [
        {
          "output_type": "stream",
          "name": "stdout",
          "text": [
            "+-----------------+-----------+-------------+-----------+-----------+\n",
            "|           estado|cod_produto|qtd_comprados|valor_total|valor_medio|\n",
            "+-----------------+-----------+-------------+-----------+-----------+\n",
            "|     Minas Gerais|         15|           13|     823.35|      63.33|\n",
            "|     Minas Gerais|          1|            7|  325953.90|   46564.84|\n",
            "|   Santa Catarina|         17|            6|   30957.30|    5159.55|\n",
            "|     Minas Gerais|          5|            6|   34086.00|    5681.00|\n",
            "|        São Paulo|         15|            6|     309.38|      51.56|\n",
            "|Rio Grande do Sul|         15|            6|     214.57|      35.76|\n",
            "|     Minas Gerais|         14|            5|    9173.34|    1834.67|\n",
            "|   Santa Catarina|         13|            4|     346.50|      86.63|\n",
            "|     Minas Gerais|          9|            4|   17509.50|    4377.38|\n",
            "|        São Paulo|         13|            4|     405.90|     101.48|\n",
            "|Rio Grande do Sul|          8|            4|    3513.12|     878.28|\n",
            "|        São Paulo|          6|            4|   44095.10|   11023.78|\n",
            "|Rio Grande do Sul|         11|            4|    2045.90|     511.47|\n",
            "|   Santa Catarina|          1|            4|  179045.10|   44761.28|\n",
            "|     Minas Gerais|         21|            4|  161975.70|   40493.93|\n",
            "|Rio Grande do Sul|         17|            4|   14602.50|    3650.63|\n",
            "|           Paraná|         10|            3|   18897.30|    6299.10|\n",
            "|     Minas Gerais|         10|            3|   20997.00|    6999.00|\n",
            "|   Santa Catarina|         21|            3|  179973.00|   59991.00|\n",
            "|        São Paulo|         21|            3|  221966.70|   73988.90|\n",
            "+-----------------+-----------+-------------+-----------+-----------+\n",
            "only showing top 20 rows\n",
            "\n"
          ]
        }
      ]
    },
    {
      "cell_type": "markdown",
      "metadata": {
        "id": "0CaldadHLbgm"
      },
      "source": [
        "3) Para cada produto, quantos usuários fizeram pelo menos uma compra desse produto e qual é o valor mínimo e máximo pago por eles?"
      ]
    },
    {
      "cell_type": "code",
      "metadata": {
        "id": "qgwOymWOLqAB",
        "colab": {
          "base_uri": "https://localhost:8080/",
          "height": 0
        },
        "outputId": "6a886c1e-4f26-438e-c60c-f3c3390e5a6e"
      },
      "source": [
        "vendas.groupBy(\"cod_produto\").agg(count(vendas.cod_usuario).alias(\"qtd_usuarios\"), max(\"valor\").alias(\"valor maximo\"), min(\"valor\").alias(\"valor minimo\")).orderBy(vendas.cod_produto).show(30)"
      ],
      "execution_count": 167,
      "outputs": [
        {
          "output_type": "stream",
          "name": "stdout",
          "text": [
            "+-----------+------------+------------+------------+\n",
            "|cod_produto|qtd_usuarios|valor maximo|valor minimo|\n",
            "+-----------+------------+------------+------------+\n",
            "|          1|         942|     91818.0|      4590.9|\n",
            "|          2|         884|     26915.6|     1345.78|\n",
            "|          3|         941|     40990.0|      2049.5|\n",
            "|          4|         964|      1178.0|        58.9|\n",
            "|          5|         973|      8740.0|       437.0|\n",
            "|          6|         977|     17998.0|       899.9|\n",
            "|          7|         985|     26009.8|     1300.49|\n",
            "|          8|         953|      4391.4|      219.57|\n",
            "|          9|         982|      7782.0|       389.1|\n",
            "|         10|         955|     13998.0|       699.9|\n",
            "|         11|         964|       998.0|        49.9|\n",
            "|         12|         893|      1550.0|        77.5|\n",
            "|         13|         928|       198.0|         9.9|\n",
            "|         14|         925|      2779.8|      138.99|\n",
            "|         15|         976|        99.8|        4.99|\n",
            "|         16|         934|       100.0|         5.0|\n",
            "|         17|         960|     11682.0|       584.1|\n",
            "|         18|        1002|       158.0|         7.9|\n",
            "|         19|         970|     49998.0|      2499.9|\n",
            "|         20|         926|      2598.0|       129.9|\n",
            "|         21|         966|    119982.0|      5999.1|\n",
            "+-----------+------------+------------+------------+\n",
            "\n"
          ]
        }
      ]
    },
    {
      "cell_type": "markdown",
      "metadata": {
        "id": "QUM8hfarLqy9"
      },
      "source": [
        "4) Aplique um desconto de 10% em todas as vendas dos usuários que fizeram pelo menos 3 compras de produtos na mesma categoria, a partir da 4ª compra realizada. Exiba apenas os usuários que terão o desconto aplicado, mantendo todas as compras, o valor original e o valor com o desconto aplicado."
      ]
    },
    {
      "cell_type": "code",
      "metadata": {
        "id": "YEYCoeHlMGHl",
        "colab": {
          "base_uri": "https://localhost:8080/",
          "height": 0
        },
        "outputId": "a0664048-7a0b-4670-e86f-ffe55d3254af"
      },
      "source": [
        "vendXprod = vendas.join(produtos, vendas.cod_produto == produtos.cod_produto, \"left\")\n",
        "\n",
        "vendXprod.select(\"valor\", \"categoria_produto\",\"cod_usuario\", \"quantidade\") \\\n",
        "  .groupBy(\"categoria_produto\",\"cod_usuario\")\\\n",
        "  .agg(count(\"quantidade\").alias(\"compras\"),\\\n",
        "       sum(\"valor\").cast(\"decimal(10,2)\").alias(\"valor\"),\\\n",
        "       (sum(\"valor\") - (sum(\"valor\") / 100) * 10).cast(\"decimal(10,2)\").alias(\"desconto\"))\\\n",
        "  .orderBy(\"cod_usuario\").where(col(\"compras\") > 3).show(10)"
      ],
      "execution_count": 165,
      "outputs": [
        {
          "output_type": "stream",
          "name": "stdout",
          "text": [
            "+-------------------+-----------+-------+---------+---------+\n",
            "|  categoria_produto|cod_usuario|compras|    valor| desconto|\n",
            "+-------------------+-----------+-------+---------+---------+\n",
            "|         Tecnologia|          3|      4| 94031.30| 84628.17|\n",
            "|   Eletrodomesticos|          6|      4| 13599.09| 12239.18|\n",
            "|         Tecnologia|         16|      5|173634.20|156270.78|\n",
            "|Produtos de limpeza|         17|      5|   508.52|   457.67|\n",
            "|   Casa e bem-estar|         23|      4| 27189.31| 24470.38|\n",
            "|   Casa e bem-estar|         34|      4| 31671.05| 28503.95|\n",
            "|   Casa e bem-estar|         37|      4| 17668.28| 15901.45|\n",
            "|         Tecnologia|         39|      4|129795.30|116815.77|\n",
            "|Produtos de limpeza|         41|      4|   260.71|   234.64|\n",
            "|   Casa e bem-estar|         87|      4| 39324.70| 35392.23|\n",
            "+-------------------+-----------+-------+---------+---------+\n",
            "only showing top 10 rows\n",
            "\n"
          ]
        }
      ]
    },
    {
      "cell_type": "markdown",
      "metadata": {
        "id": "ndROlUqgMHxn"
      },
      "source": [
        "# FIM!"
      ]
    }
  ]
}